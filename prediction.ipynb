{
 "cells": [
  {
   "cell_type": "code",
   "execution_count": 1,
   "id": "a66a1354",
   "metadata": {},
   "outputs": [],
   "source": [
    "## importing the libraries\n",
    "import pandas as pd\n",
    "import numpy as np\n",
    "from tensorflow.keras.datasets import imdb\n",
    "from tensorflow.keras.preprocessing import sequence\n",
    "from tensorflow.keras.models import load_model"
   ]
  },
  {
   "cell_type": "code",
   "execution_count": 2,
   "id": "5dad602f",
   "metadata": {},
   "outputs": [],
   "source": [
    "## load the IMDb Data set\n",
    "word_index = imdb.get_word_index()\n",
    "reverse_word_index = {value : key for key, value in word_index.items()}"
   ]
  },
  {
   "cell_type": "code",
   "execution_count": 3,
   "id": "af3553ae",
   "metadata": {},
   "outputs": [
    {
     "name": "stderr",
     "output_type": "stream",
     "text": [
      "WARNING:absl:Compiled the loaded model, but the compiled metrics have yet to be built. `model.compile_metrics` will be empty until you train or evaluate the model.\n"
     ]
    },
    {
     "data": {
      "text/html": [
       "<pre style=\"white-space:pre;overflow-x:auto;line-height:normal;font-family:Menlo,'DejaVu Sans Mono',consolas,'Courier New',monospace\"><span style=\"font-weight: bold\">Model: \"sequential_10\"</span>\n",
       "</pre>\n"
      ],
      "text/plain": [
       "\u001b[1mModel: \"sequential_10\"\u001b[0m\n"
      ]
     },
     "metadata": {},
     "output_type": "display_data"
    },
    {
     "data": {
      "text/html": [
       "<pre style=\"white-space:pre;overflow-x:auto;line-height:normal;font-family:Menlo,'DejaVu Sans Mono',consolas,'Courier New',monospace\">┏━━━━━━━━━━━━━━━━━━━━━━━━━━━━━━━━━┳━━━━━━━━━━━━━━━━━━━━━━━━┳━━━━━━━━━━━━━━━┓\n",
       "┃<span style=\"font-weight: bold\"> Layer (type)                    </span>┃<span style=\"font-weight: bold\"> Output Shape           </span>┃<span style=\"font-weight: bold\">       Param # </span>┃\n",
       "┡━━━━━━━━━━━━━━━━━━━━━━━━━━━━━━━━━╇━━━━━━━━━━━━━━━━━━━━━━━━╇━━━━━━━━━━━━━━━┩\n",
       "│ embedding_10 (<span style=\"color: #0087ff; text-decoration-color: #0087ff\">Embedding</span>)        │ (<span style=\"color: #00af00; text-decoration-color: #00af00\">32</span>, <span style=\"color: #00af00; text-decoration-color: #00af00\">500</span>, <span style=\"color: #00af00; text-decoration-color: #00af00\">512</span>)         │     <span style=\"color: #00af00; text-decoration-color: #00af00\">5,120,000</span> │\n",
       "├─────────────────────────────────┼────────────────────────┼───────────────┤\n",
       "│ simple_rnn_9 (<span style=\"color: #0087ff; text-decoration-color: #0087ff\">SimpleRNN</span>)        │ (<span style=\"color: #00af00; text-decoration-color: #00af00\">32</span>, <span style=\"color: #00af00; text-decoration-color: #00af00\">128</span>)              │        <span style=\"color: #00af00; text-decoration-color: #00af00\">82,048</span> │\n",
       "├─────────────────────────────────┼────────────────────────┼───────────────┤\n",
       "│ dense_9 (<span style=\"color: #0087ff; text-decoration-color: #0087ff\">Dense</span>)                 │ (<span style=\"color: #00af00; text-decoration-color: #00af00\">32</span>, <span style=\"color: #00af00; text-decoration-color: #00af00\">1</span>)                │           <span style=\"color: #00af00; text-decoration-color: #00af00\">129</span> │\n",
       "└─────────────────────────────────┴────────────────────────┴───────────────┘\n",
       "</pre>\n"
      ],
      "text/plain": [
       "┏━━━━━━━━━━━━━━━━━━━━━━━━━━━━━━━━━┳━━━━━━━━━━━━━━━━━━━━━━━━┳━━━━━━━━━━━━━━━┓\n",
       "┃\u001b[1m \u001b[0m\u001b[1mLayer (type)                   \u001b[0m\u001b[1m \u001b[0m┃\u001b[1m \u001b[0m\u001b[1mOutput Shape          \u001b[0m\u001b[1m \u001b[0m┃\u001b[1m \u001b[0m\u001b[1m      Param #\u001b[0m\u001b[1m \u001b[0m┃\n",
       "┡━━━━━━━━━━━━━━━━━━━━━━━━━━━━━━━━━╇━━━━━━━━━━━━━━━━━━━━━━━━╇━━━━━━━━━━━━━━━┩\n",
       "│ embedding_10 (\u001b[38;5;33mEmbedding\u001b[0m)        │ (\u001b[38;5;34m32\u001b[0m, \u001b[38;5;34m500\u001b[0m, \u001b[38;5;34m512\u001b[0m)         │     \u001b[38;5;34m5,120,000\u001b[0m │\n",
       "├─────────────────────────────────┼────────────────────────┼───────────────┤\n",
       "│ simple_rnn_9 (\u001b[38;5;33mSimpleRNN\u001b[0m)        │ (\u001b[38;5;34m32\u001b[0m, \u001b[38;5;34m128\u001b[0m)              │        \u001b[38;5;34m82,048\u001b[0m │\n",
       "├─────────────────────────────────┼────────────────────────┼───────────────┤\n",
       "│ dense_9 (\u001b[38;5;33mDense\u001b[0m)                 │ (\u001b[38;5;34m32\u001b[0m, \u001b[38;5;34m1\u001b[0m)                │           \u001b[38;5;34m129\u001b[0m │\n",
       "└─────────────────────────────────┴────────────────────────┴───────────────┘\n"
      ]
     },
     "metadata": {},
     "output_type": "display_data"
    },
    {
     "data": {
      "text/html": [
       "<pre style=\"white-space:pre;overflow-x:auto;line-height:normal;font-family:Menlo,'DejaVu Sans Mono',consolas,'Courier New',monospace\"><span style=\"font-weight: bold\"> Total params: </span><span style=\"color: #00af00; text-decoration-color: #00af00\">5,202,179</span> (19.84 MB)\n",
       "</pre>\n"
      ],
      "text/plain": [
       "\u001b[1m Total params: \u001b[0m\u001b[38;5;34m5,202,179\u001b[0m (19.84 MB)\n"
      ]
     },
     "metadata": {},
     "output_type": "display_data"
    },
    {
     "data": {
      "text/html": [
       "<pre style=\"white-space:pre;overflow-x:auto;line-height:normal;font-family:Menlo,'DejaVu Sans Mono',consolas,'Courier New',monospace\"><span style=\"font-weight: bold\"> Trainable params: </span><span style=\"color: #00af00; text-decoration-color: #00af00\">5,202,177</span> (19.84 MB)\n",
       "</pre>\n"
      ],
      "text/plain": [
       "\u001b[1m Trainable params: \u001b[0m\u001b[38;5;34m5,202,177\u001b[0m (19.84 MB)\n"
      ]
     },
     "metadata": {},
     "output_type": "display_data"
    },
    {
     "data": {
      "text/html": [
       "<pre style=\"white-space:pre;overflow-x:auto;line-height:normal;font-family:Menlo,'DejaVu Sans Mono',consolas,'Courier New',monospace\"><span style=\"font-weight: bold\"> Non-trainable params: </span><span style=\"color: #00af00; text-decoration-color: #00af00\">0</span> (0.00 B)\n",
       "</pre>\n"
      ],
      "text/plain": [
       "\u001b[1m Non-trainable params: \u001b[0m\u001b[38;5;34m0\u001b[0m (0.00 B)\n"
      ]
     },
     "metadata": {},
     "output_type": "display_data"
    },
    {
     "data": {
      "text/html": [
       "<pre style=\"white-space:pre;overflow-x:auto;line-height:normal;font-family:Menlo,'DejaVu Sans Mono',consolas,'Courier New',monospace\"><span style=\"font-weight: bold\"> Optimizer params: </span><span style=\"color: #00af00; text-decoration-color: #00af00\">2</span> (12.00 B)\n",
       "</pre>\n"
      ],
      "text/plain": [
       "\u001b[1m Optimizer params: \u001b[0m\u001b[38;5;34m2\u001b[0m (12.00 B)\n"
      ]
     },
     "metadata": {},
     "output_type": "display_data"
    }
   ],
   "source": [
    "## load the pre trained model with ReLU activation\n",
    "model = load_model('simple_rnn_imdb.h5')\n",
    "model.summary()"
   ]
  },
  {
   "cell_type": "code",
   "execution_count": 4,
   "id": "f017b09d",
   "metadata": {},
   "outputs": [
    {
     "data": {
      "text/plain": [
       "[array([[-0.08849344, -0.18458013, -0.59820026, ..., -0.12144016,\n",
       "         -0.55039805,  0.14890663],\n",
       "        [ 0.01689737, -0.06980652, -0.02861503, ...,  0.05314134,\n",
       "          0.00379722,  0.03739312],\n",
       "        [-0.08637687, -0.13784146, -0.1833529 , ...,  0.13191117,\n",
       "         -0.14161937,  0.02063152],\n",
       "        ...,\n",
       "        [-0.04482073, -0.03235452, -0.07439712, ...,  0.03928807,\n",
       "          0.02695909, -0.05522852],\n",
       "        [-0.01100295,  0.02124376,  0.03096824, ..., -0.00814799,\n",
       "         -0.11840411, -0.04548125],\n",
       "        [ 0.04392665, -0.00659296, -0.02741056, ...,  0.11399098,\n",
       "         -0.05400164, -0.01055938]], dtype=float32),\n",
       " array([[-0.0552557 ,  0.01867573, -0.00371848, ..., -0.10360567,\n",
       "          0.14051832,  0.07121032],\n",
       "        [ 0.08457632,  0.01494087, -0.02270967, ...,  0.00901108,\n",
       "          0.10602019,  0.02014502],\n",
       "        [-0.03815717,  0.06644976,  0.01231221, ...,  0.02601697,\n",
       "         -0.11371741, -0.02626217],\n",
       "        ...,\n",
       "        [-0.02030096, -0.02876282, -0.04382901, ...,  0.01369878,\n",
       "         -0.00549728, -0.07520776],\n",
       "        [-0.06036844, -0.04044568, -0.05644743, ...,  0.02490611,\n",
       "          0.01428706, -0.00859826],\n",
       "        [ 0.05757583,  0.05175741, -0.07687075, ...,  0.08564521,\n",
       "          0.07850111, -0.06957784]], dtype=float32),\n",
       " array([[-2.05661491e-01, -8.88624117e-02,  5.62546924e-02, ...,\n",
       "          1.22199490e-04,  3.55603784e-01,  5.06391600e-02],\n",
       "        [-1.82440534e-01, -9.83133726e-03, -2.34474987e-02, ...,\n",
       "         -1.86556339e-01, -1.00791425e-01,  5.82599491e-02],\n",
       "        [ 1.73629448e-01, -8.15385729e-02,  1.77898586e-01, ...,\n",
       "          5.09488769e-02,  1.13057241e-01, -4.86068130e-02],\n",
       "        ...,\n",
       "        [-3.27507973e-01, -6.08771555e-02, -1.18683819e-02, ...,\n",
       "         -7.66553432e-02, -2.85358839e-02, -1.20994389e-01],\n",
       "        [-8.20269361e-02,  5.61775640e-02,  1.76016390e-01, ...,\n",
       "         -1.25817433e-01,  9.88516882e-02,  4.50886376e-02],\n",
       "        [ 8.58360827e-02,  1.09495848e-01,  1.12382315e-01, ...,\n",
       "          1.08862119e-02,  1.73815936e-01,  1.64136648e-01]], dtype=float32),\n",
       " array([ 0.00793463,  0.00223983,  0.00508062,  0.00945292, -0.01600878,\n",
       "         0.01791756,  0.01633446, -0.01823424, -0.01990647, -0.03003374,\n",
       "        -0.02152487, -0.02971954, -0.01452088, -0.01702992, -0.02038089,\n",
       "         0.00814146, -0.01083938, -0.01651318, -0.00758052, -0.01458642,\n",
       "        -0.01061808,  0.00123646,  0.02389056,  0.00692675, -0.02068154,\n",
       "        -0.02296052,  0.01194607, -0.0288856 , -0.0296666 ,  0.02171728,\n",
       "        -0.00376122, -0.01505028, -0.00971126,  0.02086474, -0.02340393,\n",
       "        -0.01800764, -0.00737293, -0.00668397, -0.02055019, -0.0116341 ,\n",
       "        -0.02547444,  0.02824024, -0.01935779, -0.0141935 , -0.00495928,\n",
       "        -0.01754833, -0.02028722, -0.01303132, -0.00344391, -0.02119192,\n",
       "        -0.02235459, -0.02441186, -0.01327296, -0.01304945, -0.03592353,\n",
       "        -0.02734725, -0.00024945, -0.02559058, -0.01891297, -0.01901983,\n",
       "         0.00256413, -0.02514588, -0.02496281, -0.00668178, -0.03738149,\n",
       "        -0.03047101, -0.02876753, -0.00242087, -0.01327282, -0.00300436,\n",
       "        -0.01148157, -0.01177932, -0.00506418, -0.02302549, -0.04728748,\n",
       "        -0.04286704, -0.00882157, -0.00647327, -0.03016416, -0.03304844,\n",
       "         0.01713976, -0.02097197, -0.02637658, -0.02038067, -0.01518497,\n",
       "        -0.03339608, -0.01419164, -0.05153092,  0.00912656, -0.01650028,\n",
       "         0.00269686,  0.01345307, -0.00829039, -0.01205537,  0.01870191,\n",
       "         0.01060467, -0.03088749,  0.01882278,  0.03702039, -0.03220047,\n",
       "        -0.0123429 ,  0.00413201, -0.00452696, -0.03462183,  0.01259186,\n",
       "        -0.01226996, -0.01420952, -0.02385764,  0.0021238 , -0.00838935,\n",
       "        -0.01878224,  0.00134804, -0.01733689, -0.03096785,  0.01432713,\n",
       "        -0.01248556, -0.02339088, -0.03115138, -0.01295052, -0.00173241,\n",
       "        -0.02917101, -0.02298092, -0.02633312, -0.01216434, -0.05099032,\n",
       "        -0.03104191,  0.04376706,  0.03801679], dtype=float32),\n",
       " array([[ 0.0318775 ],\n",
       "        [ 0.07716396],\n",
       "        [ 0.19277498],\n",
       "        [-0.14449582],\n",
       "        [-0.02259383],\n",
       "        [ 0.05452347],\n",
       "        [ 0.12181623],\n",
       "        [-0.16087526],\n",
       "        [-0.11529715],\n",
       "        [-0.19323513],\n",
       "        [ 0.23736684],\n",
       "        [ 0.1568315 ],\n",
       "        [-0.00521526],\n",
       "        [-0.23293321],\n",
       "        [-0.04380941],\n",
       "        [-0.03557617],\n",
       "        [ 0.0483862 ],\n",
       "        [-0.02073536],\n",
       "        [ 0.0234233 ],\n",
       "        [ 0.13558717],\n",
       "        [ 0.06807964],\n",
       "        [ 0.09774676],\n",
       "        [ 0.11438019],\n",
       "        [-0.08335106],\n",
       "        [ 0.2115262 ],\n",
       "        [ 0.11832041],\n",
       "        [ 0.20324929],\n",
       "        [-0.13592294],\n",
       "        [-0.06326389],\n",
       "        [-0.08650007],\n",
       "        [ 0.24171618],\n",
       "        [-0.22084692],\n",
       "        [-0.16405722],\n",
       "        [ 1.0586439 ],\n",
       "        [-0.39564258],\n",
       "        [-0.1905809 ],\n",
       "        [-0.08618341],\n",
       "        [-0.181218  ],\n",
       "        [ 0.07366673],\n",
       "        [-0.12953062],\n",
       "        [-0.21528183],\n",
       "        [ 0.06346209],\n",
       "        [-0.1812192 ],\n",
       "        [ 0.08939979],\n",
       "        [-0.13215582],\n",
       "        [-0.1634454 ],\n",
       "        [-0.01166748],\n",
       "        [-0.0473741 ],\n",
       "        [-0.06943973],\n",
       "        [ 0.09279681],\n",
       "        [-0.11188752],\n",
       "        [-0.60792637],\n",
       "        [-0.11628535],\n",
       "        [ 0.05652754],\n",
       "        [ 0.16185226],\n",
       "        [ 0.18324353],\n",
       "        [ 0.1661029 ],\n",
       "        [ 0.01888167],\n",
       "        [-0.13378526],\n",
       "        [-0.48028398],\n",
       "        [-0.07349762],\n",
       "        [ 0.17229833],\n",
       "        [ 0.22462733],\n",
       "        [-0.22890833],\n",
       "        [-0.02820397],\n",
       "        [ 0.02430332],\n",
       "        [ 0.19008592],\n",
       "        [-0.17668419],\n",
       "        [-0.11516114],\n",
       "        [ 0.112404  ],\n",
       "        [ 0.10501586],\n",
       "        [ 0.20312117],\n",
       "        [ 0.07185888],\n",
       "        [-0.18048671],\n",
       "        [-0.03635634],\n",
       "        [ 0.04005673],\n",
       "        [ 0.00732836],\n",
       "        [-0.25507608],\n",
       "        [ 0.03449439],\n",
       "        [ 0.23484282],\n",
       "        [ 0.09132056],\n",
       "        [ 0.080972  ],\n",
       "        [ 0.14236802],\n",
       "        [-0.10352392],\n",
       "        [ 0.22551163],\n",
       "        [-0.14049684],\n",
       "        [ 0.05590331],\n",
       "        [ 0.0491119 ],\n",
       "        [ 0.17434408],\n",
       "        [-0.03310454],\n",
       "        [ 0.16332714],\n",
       "        [-0.13409051],\n",
       "        [-0.18545525],\n",
       "        [ 0.22304755],\n",
       "        [-0.19486937],\n",
       "        [-0.32714686],\n",
       "        [ 0.08880457],\n",
       "        [-0.14340122],\n",
       "        [ 0.02807687],\n",
       "        [ 0.38072115],\n",
       "        [-0.17277873],\n",
       "        [ 0.34475288],\n",
       "        [-0.10389774],\n",
       "        [ 0.6025055 ],\n",
       "        [-0.01214133],\n",
       "        [ 0.17662491],\n",
       "        [-0.17616877],\n",
       "        [ 0.21091752],\n",
       "        [-0.0922043 ],\n",
       "        [ 0.22531597],\n",
       "        [-0.06089918],\n",
       "        [ 0.1438725 ],\n",
       "        [-0.08663474],\n",
       "        [-0.34186524],\n",
       "        [ 0.08372726],\n",
       "        [-0.2031557 ],\n",
       "        [ 0.13005741],\n",
       "        [ 0.24010766],\n",
       "        [ 0.15177709],\n",
       "        [ 0.14791475],\n",
       "        [-0.1193911 ],\n",
       "        [-0.12591091],\n",
       "        [ 0.0598358 ],\n",
       "        [-0.07939368],\n",
       "        [-0.06409914],\n",
       "        [ 0.1207111 ],\n",
       "        [ 0.15048993],\n",
       "        [ 0.04925646]], dtype=float32),\n",
       " array([0.4656963], dtype=float32)]"
      ]
     },
     "execution_count": 4,
     "metadata": {},
     "output_type": "execute_result"
    }
   ],
   "source": [
    "model.get_weights()"
   ]
  },
  {
   "cell_type": "code",
   "execution_count": 5,
   "id": "ad3094e4",
   "metadata": {},
   "outputs": [],
   "source": [
    "## Helper functions\n",
    "def decode_review(encoded_review):\n",
    "    return ' '.join([reverse_word_index.get(i-3, '?') for i in encoded_review])\n",
    "\n",
    "#function to preprocess user input\n",
    "def preprocess_text(text):\n",
    "    words = text.lower().split()\n",
    "    encoded_review = [word_index.get(word, 2) + 3 for word in words]\n",
    "    padded_review = sequence.pad_sequences([encoded_review], maxlen = 500)\n",
    "    return padded_review"
   ]
  },
  {
   "cell_type": "code",
   "execution_count": 7,
   "id": "66b999a1",
   "metadata": {},
   "outputs": [],
   "source": [
    "## Prediction function \n",
    "\n",
    "def predict_sentiment(review):\n",
    "    preprocessed_input = preprocess_text(review)\n",
    "    \n",
    "    prediction = model.predict(preprocessed_input)\n",
    "\n",
    "    sentiment = 'Positive' if prediction[0][0]  > 0.5 else 'Negative'\n",
    "\n",
    "    return sentiment, prediction[0][0]"
   ]
  },
  {
   "cell_type": "code",
   "execution_count": 8,
   "id": "79f68ced",
   "metadata": {},
   "outputs": [
    {
     "name": "stdout",
     "output_type": "stream",
     "text": [
      "\u001b[1m1/1\u001b[0m \u001b[32m━━━━━━━━━━━━━━━━━━━━\u001b[0m\u001b[37m\u001b[0m \u001b[1m4s\u001b[0m 4s/step\n",
      "Review : This movie was fantastic! The acting was great and the plot was thrilling.\n",
      "Sentiment: Positive\n",
      "Prediction Score : 0.7015459537506104\n"
     ]
    }
   ],
   "source": [
    "## user input and prediction \n",
    "\n",
    "example_review = 'This movie was fantastic! The acting was great and the plot was thrilling.'\n",
    "\n",
    "sentiment, score = predict_sentiment(example_review)\n",
    "\n",
    "print(f'Review : {example_review}')\n",
    "print(f'Sentiment: {sentiment}')\n",
    "print(f'Prediction Score : {score}')\n",
    "      "
   ]
  },
  {
   "cell_type": "code",
   "execution_count": null,
   "id": "f568471a",
   "metadata": {},
   "outputs": [],
   "source": []
  }
 ],
 "metadata": {
  "kernelspec": {
   "display_name": "venv",
   "language": "python",
   "name": "python3"
  },
  "language_info": {
   "codemirror_mode": {
    "name": "ipython",
    "version": 3
   },
   "file_extension": ".py",
   "mimetype": "text/x-python",
   "name": "python",
   "nbconvert_exporter": "python",
   "pygments_lexer": "ipython3",
   "version": "3.12.6"
  }
 },
 "nbformat": 4,
 "nbformat_minor": 5
}
